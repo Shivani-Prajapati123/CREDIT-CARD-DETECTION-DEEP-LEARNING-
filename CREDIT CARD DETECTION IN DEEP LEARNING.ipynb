{
  "cells": [
    {
      "cell_type": "code",
      "execution_count": 1,
      "metadata": {
        "id": "A7B9ijTshjTE"
      },
      "outputs": [],
      "source": [
        "import pandas as pd\n",
        "import numpy as np\n",
        "import seaborn as sb\n",
        "import matplotlib.pyplot as plt\n",
        "import tensorflow as tf"
      ]
    },
    {
      "cell_type": "code",
      "execution_count": 2,
      "metadata": {
        "id": "HfsJ78i4iaKL"
      },
      "outputs": [],
      "source": [
        "df = pd.read_csv(\"/content/drive/MyDrive/deep learning/creditcard.csv\")"
      ]
    },
    {
      "cell_type": "code",
      "execution_count": 3,
      "metadata": {
        "colab": {
          "base_uri": "https://localhost:8080/",
          "height": 299
        },
        "id": "RIS-7u8ciaMj",
        "outputId": "13207f4a-c672-4342-9ab8-61edc0868c17"
      },
      "outputs": [
        {
          "output_type": "execute_result",
          "data": {
            "text/plain": [
              "   Time        V1        V2        V3        V4        V5        V6        V7  \\\n",
              "0   0.0 -1.359807 -0.072781  2.536347  1.378155 -0.338321  0.462388  0.239599   \n",
              "1   0.0  1.191857  0.266151  0.166480  0.448154  0.060018 -0.082361 -0.078803   \n",
              "2   1.0 -1.358354 -1.340163  1.773209  0.379780 -0.503198  1.800499  0.791461   \n",
              "3   1.0 -0.966272 -0.185226  1.792993 -0.863291 -0.010309  1.247203  0.237609   \n",
              "4   2.0 -1.158233  0.877737  1.548718  0.403034 -0.407193  0.095921  0.592941   \n",
              "\n",
              "         V8        V9  ...       V21       V22       V23       V24       V25  \\\n",
              "0  0.098698  0.363787  ... -0.018307  0.277838 -0.110474  0.066928  0.128539   \n",
              "1  0.085102 -0.255425  ... -0.225775 -0.638672  0.101288 -0.339846  0.167170   \n",
              "2  0.247676 -1.514654  ...  0.247998  0.771679  0.909412 -0.689281 -0.327642   \n",
              "3  0.377436 -1.387024  ... -0.108300  0.005274 -0.190321 -1.175575  0.647376   \n",
              "4 -0.270533  0.817739  ... -0.009431  0.798278 -0.137458  0.141267 -0.206010   \n",
              "\n",
              "        V26       V27       V28  Amount  Class  \n",
              "0 -0.189115  0.133558 -0.021053  149.62      0  \n",
              "1  0.125895 -0.008983  0.014724    2.69      0  \n",
              "2 -0.139097 -0.055353 -0.059752  378.66      0  \n",
              "3 -0.221929  0.062723  0.061458  123.50      0  \n",
              "4  0.502292  0.219422  0.215153   69.99      0  \n",
              "\n",
              "[5 rows x 31 columns]"
            ],
            "text/html": [
              "\n",
              "  <div id=\"df-b1b6d1d9-e8d3-43be-a65e-5b060b26e220\">\n",
              "    <div class=\"colab-df-container\">\n",
              "      <div>\n",
              "<style scoped>\n",
              "    .dataframe tbody tr th:only-of-type {\n",
              "        vertical-align: middle;\n",
              "    }\n",
              "\n",
              "    .dataframe tbody tr th {\n",
              "        vertical-align: top;\n",
              "    }\n",
              "\n",
              "    .dataframe thead th {\n",
              "        text-align: right;\n",
              "    }\n",
              "</style>\n",
              "<table border=\"1\" class=\"dataframe\">\n",
              "  <thead>\n",
              "    <tr style=\"text-align: right;\">\n",
              "      <th></th>\n",
              "      <th>Time</th>\n",
              "      <th>V1</th>\n",
              "      <th>V2</th>\n",
              "      <th>V3</th>\n",
              "      <th>V4</th>\n",
              "      <th>V5</th>\n",
              "      <th>V6</th>\n",
              "      <th>V7</th>\n",
              "      <th>V8</th>\n",
              "      <th>V9</th>\n",
              "      <th>...</th>\n",
              "      <th>V21</th>\n",
              "      <th>V22</th>\n",
              "      <th>V23</th>\n",
              "      <th>V24</th>\n",
              "      <th>V25</th>\n",
              "      <th>V26</th>\n",
              "      <th>V27</th>\n",
              "      <th>V28</th>\n",
              "      <th>Amount</th>\n",
              "      <th>Class</th>\n",
              "    </tr>\n",
              "  </thead>\n",
              "  <tbody>\n",
              "    <tr>\n",
              "      <th>0</th>\n",
              "      <td>0.0</td>\n",
              "      <td>-1.359807</td>\n",
              "      <td>-0.072781</td>\n",
              "      <td>2.536347</td>\n",
              "      <td>1.378155</td>\n",
              "      <td>-0.338321</td>\n",
              "      <td>0.462388</td>\n",
              "      <td>0.239599</td>\n",
              "      <td>0.098698</td>\n",
              "      <td>0.363787</td>\n",
              "      <td>...</td>\n",
              "      <td>-0.018307</td>\n",
              "      <td>0.277838</td>\n",
              "      <td>-0.110474</td>\n",
              "      <td>0.066928</td>\n",
              "      <td>0.128539</td>\n",
              "      <td>-0.189115</td>\n",
              "      <td>0.133558</td>\n",
              "      <td>-0.021053</td>\n",
              "      <td>149.62</td>\n",
              "      <td>0</td>\n",
              "    </tr>\n",
              "    <tr>\n",
              "      <th>1</th>\n",
              "      <td>0.0</td>\n",
              "      <td>1.191857</td>\n",
              "      <td>0.266151</td>\n",
              "      <td>0.166480</td>\n",
              "      <td>0.448154</td>\n",
              "      <td>0.060018</td>\n",
              "      <td>-0.082361</td>\n",
              "      <td>-0.078803</td>\n",
              "      <td>0.085102</td>\n",
              "      <td>-0.255425</td>\n",
              "      <td>...</td>\n",
              "      <td>-0.225775</td>\n",
              "      <td>-0.638672</td>\n",
              "      <td>0.101288</td>\n",
              "      <td>-0.339846</td>\n",
              "      <td>0.167170</td>\n",
              "      <td>0.125895</td>\n",
              "      <td>-0.008983</td>\n",
              "      <td>0.014724</td>\n",
              "      <td>2.69</td>\n",
              "      <td>0</td>\n",
              "    </tr>\n",
              "    <tr>\n",
              "      <th>2</th>\n",
              "      <td>1.0</td>\n",
              "      <td>-1.358354</td>\n",
              "      <td>-1.340163</td>\n",
              "      <td>1.773209</td>\n",
              "      <td>0.379780</td>\n",
              "      <td>-0.503198</td>\n",
              "      <td>1.800499</td>\n",
              "      <td>0.791461</td>\n",
              "      <td>0.247676</td>\n",
              "      <td>-1.514654</td>\n",
              "      <td>...</td>\n",
              "      <td>0.247998</td>\n",
              "      <td>0.771679</td>\n",
              "      <td>0.909412</td>\n",
              "      <td>-0.689281</td>\n",
              "      <td>-0.327642</td>\n",
              "      <td>-0.139097</td>\n",
              "      <td>-0.055353</td>\n",
              "      <td>-0.059752</td>\n",
              "      <td>378.66</td>\n",
              "      <td>0</td>\n",
              "    </tr>\n",
              "    <tr>\n",
              "      <th>3</th>\n",
              "      <td>1.0</td>\n",
              "      <td>-0.966272</td>\n",
              "      <td>-0.185226</td>\n",
              "      <td>1.792993</td>\n",
              "      <td>-0.863291</td>\n",
              "      <td>-0.010309</td>\n",
              "      <td>1.247203</td>\n",
              "      <td>0.237609</td>\n",
              "      <td>0.377436</td>\n",
              "      <td>-1.387024</td>\n",
              "      <td>...</td>\n",
              "      <td>-0.108300</td>\n",
              "      <td>0.005274</td>\n",
              "      <td>-0.190321</td>\n",
              "      <td>-1.175575</td>\n",
              "      <td>0.647376</td>\n",
              "      <td>-0.221929</td>\n",
              "      <td>0.062723</td>\n",
              "      <td>0.061458</td>\n",
              "      <td>123.50</td>\n",
              "      <td>0</td>\n",
              "    </tr>\n",
              "    <tr>\n",
              "      <th>4</th>\n",
              "      <td>2.0</td>\n",
              "      <td>-1.158233</td>\n",
              "      <td>0.877737</td>\n",
              "      <td>1.548718</td>\n",
              "      <td>0.403034</td>\n",
              "      <td>-0.407193</td>\n",
              "      <td>0.095921</td>\n",
              "      <td>0.592941</td>\n",
              "      <td>-0.270533</td>\n",
              "      <td>0.817739</td>\n",
              "      <td>...</td>\n",
              "      <td>-0.009431</td>\n",
              "      <td>0.798278</td>\n",
              "      <td>-0.137458</td>\n",
              "      <td>0.141267</td>\n",
              "      <td>-0.206010</td>\n",
              "      <td>0.502292</td>\n",
              "      <td>0.219422</td>\n",
              "      <td>0.215153</td>\n",
              "      <td>69.99</td>\n",
              "      <td>0</td>\n",
              "    </tr>\n",
              "  </tbody>\n",
              "</table>\n",
              "<p>5 rows × 31 columns</p>\n",
              "</div>\n",
              "      <button class=\"colab-df-convert\" onclick=\"convertToInteractive('df-b1b6d1d9-e8d3-43be-a65e-5b060b26e220')\"\n",
              "              title=\"Convert this dataframe to an interactive table.\"\n",
              "              style=\"display:none;\">\n",
              "        \n",
              "  <svg xmlns=\"http://www.w3.org/2000/svg\" height=\"24px\"viewBox=\"0 0 24 24\"\n",
              "       width=\"24px\">\n",
              "    <path d=\"M0 0h24v24H0V0z\" fill=\"none\"/>\n",
              "    <path d=\"M18.56 5.44l.94 2.06.94-2.06 2.06-.94-2.06-.94-.94-2.06-.94 2.06-2.06.94zm-11 1L8.5 8.5l.94-2.06 2.06-.94-2.06-.94L8.5 2.5l-.94 2.06-2.06.94zm10 10l.94 2.06.94-2.06 2.06-.94-2.06-.94-.94-2.06-.94 2.06-2.06.94z\"/><path d=\"M17.41 7.96l-1.37-1.37c-.4-.4-.92-.59-1.43-.59-.52 0-1.04.2-1.43.59L10.3 9.45l-7.72 7.72c-.78.78-.78 2.05 0 2.83L4 21.41c.39.39.9.59 1.41.59.51 0 1.02-.2 1.41-.59l7.78-7.78 2.81-2.81c.8-.78.8-2.07 0-2.86zM5.41 20L4 18.59l7.72-7.72 1.47 1.35L5.41 20z\"/>\n",
              "  </svg>\n",
              "      </button>\n",
              "      \n",
              "  <style>\n",
              "    .colab-df-container {\n",
              "      display:flex;\n",
              "      flex-wrap:wrap;\n",
              "      gap: 12px;\n",
              "    }\n",
              "\n",
              "    .colab-df-convert {\n",
              "      background-color: #E8F0FE;\n",
              "      border: none;\n",
              "      border-radius: 50%;\n",
              "      cursor: pointer;\n",
              "      display: none;\n",
              "      fill: #1967D2;\n",
              "      height: 32px;\n",
              "      padding: 0 0 0 0;\n",
              "      width: 32px;\n",
              "    }\n",
              "\n",
              "    .colab-df-convert:hover {\n",
              "      background-color: #E2EBFA;\n",
              "      box-shadow: 0px 1px 2px rgba(60, 64, 67, 0.3), 0px 1px 3px 1px rgba(60, 64, 67, 0.15);\n",
              "      fill: #174EA6;\n",
              "    }\n",
              "\n",
              "    [theme=dark] .colab-df-convert {\n",
              "      background-color: #3B4455;\n",
              "      fill: #D2E3FC;\n",
              "    }\n",
              "\n",
              "    [theme=dark] .colab-df-convert:hover {\n",
              "      background-color: #434B5C;\n",
              "      box-shadow: 0px 1px 3px 1px rgba(0, 0, 0, 0.15);\n",
              "      filter: drop-shadow(0px 1px 2px rgba(0, 0, 0, 0.3));\n",
              "      fill: #FFFFFF;\n",
              "    }\n",
              "  </style>\n",
              "\n",
              "      <script>\n",
              "        const buttonEl =\n",
              "          document.querySelector('#df-b1b6d1d9-e8d3-43be-a65e-5b060b26e220 button.colab-df-convert');\n",
              "        buttonEl.style.display =\n",
              "          google.colab.kernel.accessAllowed ? 'block' : 'none';\n",
              "\n",
              "        async function convertToInteractive(key) {\n",
              "          const element = document.querySelector('#df-b1b6d1d9-e8d3-43be-a65e-5b060b26e220');\n",
              "          const dataTable =\n",
              "            await google.colab.kernel.invokeFunction('convertToInteractive',\n",
              "                                                     [key], {});\n",
              "          if (!dataTable) return;\n",
              "\n",
              "          const docLinkHtml = 'Like what you see? Visit the ' +\n",
              "            '<a target=\"_blank\" href=https://colab.research.google.com/notebooks/data_table.ipynb>data table notebook</a>'\n",
              "            + ' to learn more about interactive tables.';\n",
              "          element.innerHTML = '';\n",
              "          dataTable['output_type'] = 'display_data';\n",
              "          await google.colab.output.renderOutput(dataTable, element);\n",
              "          const docLink = document.createElement('div');\n",
              "          docLink.innerHTML = docLinkHtml;\n",
              "          element.appendChild(docLink);\n",
              "        }\n",
              "      </script>\n",
              "    </div>\n",
              "  </div>\n",
              "  "
            ]
          },
          "metadata": {},
          "execution_count": 3
        }
      ],
      "source": [
        "#to show first 5 records\n",
        "df.head()"
      ]
    },
    {
      "cell_type": "code",
      "execution_count": 4,
      "metadata": {
        "id": "j1IbHOaAiaOy"
      },
      "outputs": [],
      "source": [
        "#to remove the uncessary columns\n",
        "df.drop(['V1','V2','V3','V4','V5','V6','V7','V8','V9','V10','V11','V12','V13','V14','V15','V16','V17','V18','V19','V20','V21','V22','V23','V24','V25','V26','V27','V28'],axis=1,inplace=True)\n"
      ]
    },
    {
      "cell_type": "code",
      "execution_count": 5,
      "metadata": {
        "colab": {
          "base_uri": "https://localhost:8080/",
          "height": 206
        },
        "id": "GBOFHDKE2w_2",
        "outputId": "a124adb3-eee9-4e8b-fe3d-bd3044a8c2c2"
      },
      "outputs": [
        {
          "output_type": "execute_result",
          "data": {
            "text/plain": [
              "   Time  Amount  Class\n",
              "0   0.0  149.62      0\n",
              "1   0.0    2.69      0\n",
              "2   1.0  378.66      0\n",
              "3   1.0  123.50      0\n",
              "4   2.0   69.99      0"
            ],
            "text/html": [
              "\n",
              "  <div id=\"df-e6299392-90c3-4f62-86ba-9d215b83a8b1\">\n",
              "    <div class=\"colab-df-container\">\n",
              "      <div>\n",
              "<style scoped>\n",
              "    .dataframe tbody tr th:only-of-type {\n",
              "        vertical-align: middle;\n",
              "    }\n",
              "\n",
              "    .dataframe tbody tr th {\n",
              "        vertical-align: top;\n",
              "    }\n",
              "\n",
              "    .dataframe thead th {\n",
              "        text-align: right;\n",
              "    }\n",
              "</style>\n",
              "<table border=\"1\" class=\"dataframe\">\n",
              "  <thead>\n",
              "    <tr style=\"text-align: right;\">\n",
              "      <th></th>\n",
              "      <th>Time</th>\n",
              "      <th>Amount</th>\n",
              "      <th>Class</th>\n",
              "    </tr>\n",
              "  </thead>\n",
              "  <tbody>\n",
              "    <tr>\n",
              "      <th>0</th>\n",
              "      <td>0.0</td>\n",
              "      <td>149.62</td>\n",
              "      <td>0</td>\n",
              "    </tr>\n",
              "    <tr>\n",
              "      <th>1</th>\n",
              "      <td>0.0</td>\n",
              "      <td>2.69</td>\n",
              "      <td>0</td>\n",
              "    </tr>\n",
              "    <tr>\n",
              "      <th>2</th>\n",
              "      <td>1.0</td>\n",
              "      <td>378.66</td>\n",
              "      <td>0</td>\n",
              "    </tr>\n",
              "    <tr>\n",
              "      <th>3</th>\n",
              "      <td>1.0</td>\n",
              "      <td>123.50</td>\n",
              "      <td>0</td>\n",
              "    </tr>\n",
              "    <tr>\n",
              "      <th>4</th>\n",
              "      <td>2.0</td>\n",
              "      <td>69.99</td>\n",
              "      <td>0</td>\n",
              "    </tr>\n",
              "  </tbody>\n",
              "</table>\n",
              "</div>\n",
              "      <button class=\"colab-df-convert\" onclick=\"convertToInteractive('df-e6299392-90c3-4f62-86ba-9d215b83a8b1')\"\n",
              "              title=\"Convert this dataframe to an interactive table.\"\n",
              "              style=\"display:none;\">\n",
              "        \n",
              "  <svg xmlns=\"http://www.w3.org/2000/svg\" height=\"24px\"viewBox=\"0 0 24 24\"\n",
              "       width=\"24px\">\n",
              "    <path d=\"M0 0h24v24H0V0z\" fill=\"none\"/>\n",
              "    <path d=\"M18.56 5.44l.94 2.06.94-2.06 2.06-.94-2.06-.94-.94-2.06-.94 2.06-2.06.94zm-11 1L8.5 8.5l.94-2.06 2.06-.94-2.06-.94L8.5 2.5l-.94 2.06-2.06.94zm10 10l.94 2.06.94-2.06 2.06-.94-2.06-.94-.94-2.06-.94 2.06-2.06.94z\"/><path d=\"M17.41 7.96l-1.37-1.37c-.4-.4-.92-.59-1.43-.59-.52 0-1.04.2-1.43.59L10.3 9.45l-7.72 7.72c-.78.78-.78 2.05 0 2.83L4 21.41c.39.39.9.59 1.41.59.51 0 1.02-.2 1.41-.59l7.78-7.78 2.81-2.81c.8-.78.8-2.07 0-2.86zM5.41 20L4 18.59l7.72-7.72 1.47 1.35L5.41 20z\"/>\n",
              "  </svg>\n",
              "      </button>\n",
              "      \n",
              "  <style>\n",
              "    .colab-df-container {\n",
              "      display:flex;\n",
              "      flex-wrap:wrap;\n",
              "      gap: 12px;\n",
              "    }\n",
              "\n",
              "    .colab-df-convert {\n",
              "      background-color: #E8F0FE;\n",
              "      border: none;\n",
              "      border-radius: 50%;\n",
              "      cursor: pointer;\n",
              "      display: none;\n",
              "      fill: #1967D2;\n",
              "      height: 32px;\n",
              "      padding: 0 0 0 0;\n",
              "      width: 32px;\n",
              "    }\n",
              "\n",
              "    .colab-df-convert:hover {\n",
              "      background-color: #E2EBFA;\n",
              "      box-shadow: 0px 1px 2px rgba(60, 64, 67, 0.3), 0px 1px 3px 1px rgba(60, 64, 67, 0.15);\n",
              "      fill: #174EA6;\n",
              "    }\n",
              "\n",
              "    [theme=dark] .colab-df-convert {\n",
              "      background-color: #3B4455;\n",
              "      fill: #D2E3FC;\n",
              "    }\n",
              "\n",
              "    [theme=dark] .colab-df-convert:hover {\n",
              "      background-color: #434B5C;\n",
              "      box-shadow: 0px 1px 3px 1px rgba(0, 0, 0, 0.15);\n",
              "      filter: drop-shadow(0px 1px 2px rgba(0, 0, 0, 0.3));\n",
              "      fill: #FFFFFF;\n",
              "    }\n",
              "  </style>\n",
              "\n",
              "      <script>\n",
              "        const buttonEl =\n",
              "          document.querySelector('#df-e6299392-90c3-4f62-86ba-9d215b83a8b1 button.colab-df-convert');\n",
              "        buttonEl.style.display =\n",
              "          google.colab.kernel.accessAllowed ? 'block' : 'none';\n",
              "\n",
              "        async function convertToInteractive(key) {\n",
              "          const element = document.querySelector('#df-e6299392-90c3-4f62-86ba-9d215b83a8b1');\n",
              "          const dataTable =\n",
              "            await google.colab.kernel.invokeFunction('convertToInteractive',\n",
              "                                                     [key], {});\n",
              "          if (!dataTable) return;\n",
              "\n",
              "          const docLinkHtml = 'Like what you see? Visit the ' +\n",
              "            '<a target=\"_blank\" href=https://colab.research.google.com/notebooks/data_table.ipynb>data table notebook</a>'\n",
              "            + ' to learn more about interactive tables.';\n",
              "          element.innerHTML = '';\n",
              "          dataTable['output_type'] = 'display_data';\n",
              "          await google.colab.output.renderOutput(dataTable, element);\n",
              "          const docLink = document.createElement('div');\n",
              "          docLink.innerHTML = docLinkHtml;\n",
              "          element.appendChild(docLink);\n",
              "        }\n",
              "      </script>\n",
              "    </div>\n",
              "  </div>\n",
              "  "
            ]
          },
          "metadata": {},
          "execution_count": 5
        }
      ],
      "source": [
        "df.head()"
      ]
    },
    {
      "cell_type": "code",
      "execution_count": 6,
      "metadata": {
        "colab": {
          "base_uri": "https://localhost:8080/"
        },
        "id": "INOjZJIDjlwU",
        "outputId": "8baaa4fc-7cfe-4f64-a99f-a3558ecb4a37"
      },
      "outputs": [
        {
          "output_type": "execute_result",
          "data": {
            "text/plain": [
              "Time      0\n",
              "Amount    0\n",
              "Class     0\n",
              "dtype: int64"
            ]
          },
          "metadata": {},
          "execution_count": 6
        }
      ],
      "source": [
        "#to find null value\n",
        "df.isnull().sum()"
      ]
    },
    {
      "cell_type": "code",
      "execution_count": 7,
      "metadata": {
        "colab": {
          "base_uri": "https://localhost:8080/",
          "height": 270
        },
        "id": "3Uclegd4jlyi",
        "outputId": "c03fcb0d-cbef-4a27-acba-03f42f05bf00"
      },
      "outputs": [
        {
          "output_type": "display_data",
          "data": {
            "text/plain": [
              "<Figure size 432x288 with 2 Axes>"
            ],
            "image/png": "[encoded data removed]"
          },
          "metadata": {
            "needs_background": "light"
          }
        }
      ],
      "source": [
        "#vusualise the null value\n",
        "sb.heatmap(df.isnull())\n",
        "plt.show()"
      ]
    },
    {
      "cell_type": "code",
      "execution_count": 8,
      "metadata": {
        "colab": {
          "base_uri": "https://localhost:8080/"
        },
        "id": "doDnwp78jl0a",
        "outputId": "19926402-e765-438f-8c9e-fdf2fa45e596"
      },
      "outputs": [
        {
          "output_type": "execute_result",
          "data": {
            "text/plain": [
              "Time      float64\n",
              "Amount    float64\n",
              "Class       int64\n",
              "dtype: object"
            ]
          },
          "metadata": {},
          "execution_count": 8
        }
      ],
      "source": [
        "#cross check\n",
        "#to check data types\n",
        "df.dtypes"
      ]
    },
    {
      "cell_type": "code",
      "execution_count": 9,
      "metadata": {
        "colab": {
          "base_uri": "https://localhost:8080/"
        },
        "id": "Hzd4cQIEjl2D",
        "outputId": "e6d3fb78-5078-4897-887e-f14c55a034c8"
      },
      "outputs": [
        {
          "output_type": "execute_result",
          "data": {
            "text/plain": [
              "4857"
            ]
          },
          "metadata": {},
          "execution_count": 9
        }
      ],
      "source": [
        "#to check duplicates values\n",
        "df.duplicated().sum()"
      ]
    },
    {
      "cell_type": "code",
      "execution_count": 10,
      "metadata": {
        "colab": {
          "base_uri": "https://localhost:8080/"
        },
        "id": "mb9FdEVT298e",
        "outputId": "53aa3824-d86a-49e1-d712-71f07e7a1a11"
      },
      "outputs": [
        {
          "output_type": "execute_result",
          "data": {
            "text/plain": [
              "(284807, 3)"
            ]
          },
          "metadata": {},
          "execution_count": 10
        }
      ],
      "source": [
        "#to check how many rows and columns\n",
        "df.shape"
      ]
    },
    {
      "cell_type": "code",
      "execution_count": 11,
      "metadata": {
        "colab": {
          "base_uri": "https://localhost:8080/",
          "height": 331
        },
        "id": "-Yo5P6ZS9gs3",
        "outputId": "7c3726bf-7bcd-43dc-93c4-3daa4b396419"
      },
      "outputs": [
        {
          "output_type": "stream",
          "name": "stdout",
          "text": [
            "0    284315\n",
            "1       492\n",
            "Name: Class, dtype: int64\n"
          ]
        },
        {
          "output_type": "display_data",
          "data": {
            "text/plain": [
              "<Figure size 432x288 with 1 Axes>"
            ],
            "image/png": "[encoded data removed]"
          },
          "metadata": {
            "needs_background": "light"
          }
        }
      ],
      "source": [
        "#check balance or unbalance \n",
        "#here target:class\n",
        "#check categorical data use countplot\n",
        "sb.countplot(data=df,x='Class')\n",
        "f=df['Class'].value_counts()\n",
        "print(f)\n",
        "plt.yticks(f)\n",
        "plt.show()\n"
      ]
    },
    {
      "cell_type": "code",
      "execution_count": 12,
      "metadata": {
        "id": "4HxlGBBh9op7"
      },
      "outputs": [],
      "source": [
        "#clearly,see data is unbalanced"
      ]
    },
    {
      "cell_type": "code",
      "execution_count": 13,
      "metadata": {
        "id": "Y252NAkE3T1c"
      },
      "outputs": [],
      "source": [
        "#select input and output\n",
        "X = df.drop('Class', axis =1)\n",
        "Y = df['Class']\n"
      ]
    },
    {
      "cell_type": "code",
      "execution_count": 14,
      "metadata": {
        "id": "OmvyitVv3eMI"
      },
      "outputs": [],
      "source": [
        "from sklearn.model_selection import train_test_split"
      ]
    },
    {
      "cell_type": "code",
      "execution_count": 15,
      "metadata": {
        "id": "QS3vENZ_3eQr"
      },
      "outputs": [],
      "source": [
        "X_train,X_test, Y_train, Y_test = train_test_split(X,Y, test_size = 0.3, random_state=1)"
      ]
    },
    {
      "cell_type": "code",
      "execution_count": 16,
      "metadata": {
        "id": "dWZ5FXix3eT7"
      },
      "outputs": [],
      "source": [
        "from sklearn.preprocessing import StandardScaler\n",
        "\n",
        "ss= StandardScaler()\n",
        "X_train = ss.fit_transform(X_train)\n",
        "X_test = ss.transform(X_test)"
      ]
    },
    {
      "cell_type": "code",
      "execution_count": 17,
      "metadata": {
        "colab": {
          "base_uri": "https://localhost:8080/"
        },
        "id": "No2pTDNn3T54",
        "outputId": "9facfa18-a20d-4bc8-944c-9bd8e322aa47"
      },
      "outputs": [
        {
          "output_type": "execute_result",
          "data": {
            "text/plain": [
              "((199364, 2), (85443, 2))"
            ]
          },
          "metadata": {},
          "execution_count": 17
        }
      ],
      "source": [
        "X_train.shape, X_test.shape"
      ]
    },
    {
      "cell_type": "code",
      "execution_count": 18,
      "metadata": {
        "colab": {
          "base_uri": "https://localhost:8080/"
        },
        "id": "M9J6puWa9tkN",
        "outputId": "2b30a2df-05f5-495b-cfb3-a3bfffc506af"
      },
      "outputs": [
        {
          "output_type": "execute_result",
          "data": {
            "text/plain": [
              "0    199007\n",
              "1       357\n",
              "Name: Class, dtype: int64"
            ]
          },
          "metadata": {},
          "execution_count": 18
        }
      ],
      "source": [
        "#first check Y_train(0 & 1): how many sample of 0's and 1's\n",
        "Y_train.value_counts()"
      ]
    },
    {
      "cell_type": "code",
      "execution_count": 19,
      "metadata": {
        "id": "65V-KjAs96ae"
      },
      "outputs": [],
      "source": [
        "#clearly understand, data is unbalance\n",
        "#now we have to balance to given dataset means Y_train \n",
        "#use RandomOverSampler means to convert minorty class into majority class\n",
        "#means increase means make a duplicates copy of some records randomly \n",
        "#and force minority class converts to majority class\n"
      ]
    },
    {
      "cell_type": "code",
      "execution_count": 20,
      "metadata": {
        "id": "7KGinndL96cq"
      },
      "outputs": [],
      "source": [
        "#!pip install imblearn"
      ]
    },
    {
      "cell_type": "code",
      "execution_count": 21,
      "metadata": {
        "id": "GiQv2WK196fG"
      },
      "outputs": [],
      "source": [
        "from imblearn.over_sampling import RandomOverSampler\n",
        "#RandomOverSampler inbuilt class which defined in outer class over sampling & over_sampling defined in inbuilt class"
      ]
    },
    {
      "cell_type": "code",
      "execution_count": 22,
      "metadata": {
        "id": "A3VfK1L2-VrJ"
      },
      "outputs": [],
      "source": [
        "#create the object of class RandomOverSampler\n",
        "ros=RandomOverSampler(random_state=1)\n",
        "X_train1,Y_train1=ros.fit_resample(X_train,Y_train)\n",
        "#fit_resample() inbuilt method of RandomOverSampler class"
      ]
    },
    {
      "cell_type": "code",
      "execution_count": 23,
      "metadata": {
        "colab": {
          "base_uri": "https://localhost:8080/"
        },
        "id": "b6AS5jZJ-Vtd",
        "outputId": "dd0857da-ef68-4ba5-a841-01fdf0b65f4f"
      },
      "outputs": [
        {
          "output_type": "execute_result",
          "data": {
            "text/plain": [
              "((398014, 2), (398014,))"
            ]
          },
          "metadata": {},
          "execution_count": 23
        }
      ],
      "source": [
        "X_train1.shape,Y_train1.shape"
      ]
    },
    {
      "cell_type": "code",
      "execution_count": 24,
      "metadata": {
        "colab": {
          "base_uri": "https://localhost:8080/"
        },
        "id": "jJjpv6xT-Vw0",
        "outputId": "d69b79a3-30b1-418c-f942-81c527fa492a"
      },
      "outputs": [
        {
          "output_type": "execute_result",
          "data": {
            "text/plain": [
              "0    199007\n",
              "1    199007\n",
              "Name: Class, dtype: int64"
            ]
          },
          "metadata": {},
          "execution_count": 24
        }
      ],
      "source": [
        "#check y_train\n",
        "Y_train1.value_counts()"
      ]
    },
    {
      "cell_type": "code",
      "execution_count": 25,
      "metadata": {
        "colab": {
          "base_uri": "https://localhost:8080/"
        },
        "id": "7oTJslDc96ip",
        "outputId": "9af61ea5-8ba2-49be-beb5-64473bd69909"
      },
      "outputs": [
        {
          "output_type": "execute_result",
          "data": {
            "text/plain": [
              "0    85308\n",
              "1      135\n",
              "Name: Class, dtype: int64"
            ]
          },
          "metadata": {},
          "execution_count": 25
        }
      ],
      "source": [
        "#check y_test\n",
        "Y_test.value_counts()"
      ]
    },
    {
      "cell_type": "code",
      "execution_count": 26,
      "metadata": {
        "id": "687F790b-6sR"
      },
      "outputs": [],
      "source": [
        "#clearly,y_test data is unbalanced"
      ]
    },
    {
      "cell_type": "code",
      "execution_count": 27,
      "metadata": {
        "id": "yvi6-3q_-6u6"
      },
      "outputs": [],
      "source": [
        "ros=RandomOverSampler(random_state=1)\n",
        "X_test1,Y_test1=ros.fit_resample(X_test,Y_test)"
      ]
    },
    {
      "cell_type": "code",
      "execution_count": 28,
      "metadata": {
        "colab": {
          "base_uri": "https://localhost:8080/"
        },
        "id": "_nf6qqKa-6yQ",
        "outputId": "de5a8794-a765-47cd-8717-8bbc86f5e0cd"
      },
      "outputs": [
        {
          "output_type": "execute_result",
          "data": {
            "text/plain": [
              "((170616, 2), (170616,))"
            ]
          },
          "metadata": {},
          "execution_count": 28
        }
      ],
      "source": [
        "X_test1.shape,Y_test1.shape"
      ]
    },
    {
      "cell_type": "code",
      "execution_count": 29,
      "metadata": {
        "colab": {
          "base_uri": "https://localhost:8080/"
        },
        "id": "yRNpMLxv-61s",
        "outputId": "c3f9a7b8-925a-42c4-ecab-8bbb16ef3c53"
      },
      "outputs": [
        {
          "output_type": "execute_result",
          "data": {
            "text/plain": [
              "0    85308\n",
              "1    85308\n",
              "Name: Class, dtype: int64"
            ]
          },
          "metadata": {},
          "execution_count": 29
        }
      ],
      "source": [
        "#again check y_test1\n",
        "Y_test1.value_counts()"
      ]
    },
    {
      "cell_type": "code",
      "execution_count": 30,
      "metadata": {
        "id": "Yz2ePh0j3wEc"
      },
      "outputs": [],
      "source": [
        "#create a neural network\n",
        "import tensorflow as tf\n",
        "#create the object of Sequential class\n",
        "model=tf.keras.Sequential([\n",
        "    #first hidden layer\n",
        "    tf.keras.layers.Dense(units=8,activation=\"relu\",input_shape=(X.shape[1],)),\n",
        "    #output layer\n",
        "    tf.keras.layers.Dense(units=1,activation=\"sigmoid\")\n",
        "])"
      ]
    },
    {
      "cell_type": "code",
      "execution_count": 31,
      "metadata": {
        "colab": {
          "base_uri": "https://localhost:8080/"
        },
        "id": "OOt-wjd533Hr",
        "outputId": "5ee300af-e214-4784-fee4-69641809be60"
      },
      "outputs": [
        {
          "output_type": "stream",
          "name": "stdout",
          "text": [
            "Model: \"sequential\"\n",
            "_________________________________________________________________\n",
            " Layer (type)                Output Shape              Param #   \n",
            "=================================================================\n",
            " dense (Dense)               (None, 8)                 24        \n",
            "                                                                 \n",
            " dense_1 (Dense)             (None, 1)                 9         \n",
            "                                                                 \n",
            "=================================================================\n",
            "Total params: 33\n",
            "Trainable params: 33\n",
            "Non-trainable params: 0\n",
            "_________________________________________________________________\n"
          ]
        }
      ],
      "source": [
        "##to show summary\n",
        "model.summary()  #summary() inbuilt method of Sequential class"
      ]
    },
    {
      "cell_type": "code",
      "execution_count": 32,
      "metadata": {
        "id": "SVnR_PW233L3"
      },
      "outputs": [],
      "source": [
        "#compile the model\n",
        "model.compile(optimizer='sgd',loss='binary_crossentropy',metrics=['accuracy'])"
      ]
    },
    {
      "cell_type": "code",
      "execution_count": 33,
      "metadata": {
        "id": "rxRRdbVn33e6"
      },
      "outputs": [],
      "source": [
        "#Create the object of EarlyStopping class\n",
        "from tensorflow.keras.callbacks import EarlyStopping\n",
        "cb=EarlyStopping(\n",
        "    monitor=\"val_loss\",  #val_loss means validation loss means testing error\n",
        "    min_delta=0.00001, #differtiate karke lamda se multiple karta hai\n",
        "    patience=20,#run upto 20 \n",
        "    verbose=1, \n",
        "    mode='auto', #to see minimum loss val_loss means minimum and val_score means maximum\n",
        "    baseline=None,   #neuornal network to decide the weight and bias first time\n",
        "    restore_best_weights=False #jaha itreation stop hoga wahi final weight and bias hoga old weight and bias restore nhi karega \n",
        ")   "
      ]
    },
    {
      "cell_type": "code",
      "execution_count": 34,
      "metadata": {
        "colab": {
          "base_uri": "https://localhost:8080/"
        },
        "id": "eAEiJI4033im",
        "outputId": "d43a435e-f92b-4bde-b595-9f758b7cfc9f"
      },
      "outputs": [
        {
          "output_type": "stream",
          "name": "stdout",
          "text": [
            "Epoch 1/5000\n",
            "12438/12438 [==============================] - 54s 4ms/step - loss: 0.6771 - accuracy: 0.5714 - val_loss: 0.6810 - val_accuracy: 0.5568\n",
            "Epoch 2/5000\n",
            "12438/12438 [==============================] - 41s 3ms/step - loss: 0.6700 - accuracy: 0.6081 - val_loss: 0.6763 - val_accuracy: 0.5849\n",
            "Epoch 3/5000\n",
            "12438/12438 [==============================] - 38s 3ms/step - loss: 0.6661 - accuracy: 0.6194 - val_loss: 0.6738 - val_accuracy: 0.5999\n",
            "Epoch 4/5000\n",
            "12438/12438 [==============================] - 37s 3ms/step - loss: 0.6631 - accuracy: 0.6246 - val_loss: 0.6725 - val_accuracy: 0.6050\n",
            "Epoch 5/5000\n",
            "12438/12438 [==============================] - 41s 3ms/step - loss: 0.6605 - accuracy: 0.6281 - val_loss: 0.6720 - val_accuracy: 0.6117\n",
            "Epoch 6/5000\n",
            "12438/12438 [==============================] - 36s 3ms/step - loss: 0.6582 - accuracy: 0.6308 - val_loss: 0.6689 - val_accuracy: 0.6036\n",
            "Epoch 7/5000\n",
            "12438/12438 [==============================] - 37s 3ms/step - loss: 0.6547 - accuracy: 0.6334 - val_loss: 0.6646 - val_accuracy: 0.6181\n",
            "Epoch 8/5000\n",
            "12438/12438 [==============================] - 40s 3ms/step - loss: 0.6512 - accuracy: 0.6339 - val_loss: 0.6620 - val_accuracy: 0.6175\n",
            "Epoch 9/5000\n",
            "12438/12438 [==============================] - 37s 3ms/step - loss: 0.6495 - accuracy: 0.6333 - val_loss: 0.6615 - val_accuracy: 0.6169\n",
            "Epoch 10/5000\n",
            "12438/12438 [==============================] - 39s 3ms/step - loss: 0.6483 - accuracy: 0.6334 - val_loss: 0.6595 - val_accuracy: 0.6159\n",
            "Epoch 11/5000\n",
            "12438/12438 [==============================] - 40s 3ms/step - loss: 0.6472 - accuracy: 0.6315 - val_loss: 0.6624 - val_accuracy: 0.6166\n",
            "Epoch 12/5000\n",
            "12438/12438 [==============================] - 40s 3ms/step - loss: 0.6464 - accuracy: 0.6287 - val_loss: 0.6626 - val_accuracy: 0.6208\n",
            "Epoch 13/5000\n",
            "12438/12438 [==============================] - 39s 3ms/step - loss: 0.6460 - accuracy: 0.6286 - val_loss: 0.6644 - val_accuracy: 0.6216\n",
            "Epoch 14/5000\n",
            "12438/12438 [==============================] - 42s 3ms/step - loss: 0.6457 - accuracy: 0.6274 - val_loss: 0.6625 - val_accuracy: 0.6179\n",
            "Epoch 15/5000\n",
            "12438/12438 [==============================] - 44s 4ms/step - loss: 0.6455 - accuracy: 0.6265 - val_loss: 0.6605 - val_accuracy: 0.6068\n",
            "Epoch 16/5000\n",
            "12438/12438 [==============================] - 41s 3ms/step - loss: 0.6454 - accuracy: 0.6262 - val_loss: 0.6628 - val_accuracy: 0.6129\n",
            "Epoch 17/5000\n",
            "12438/12438 [==============================] - 38s 3ms/step - loss: 0.6454 - accuracy: 0.6261 - val_loss: 0.6652 - val_accuracy: 0.6188\n",
            "Epoch 18/5000\n",
            "12438/12438 [==============================] - 41s 3ms/step - loss: 0.6453 - accuracy: 0.6256 - val_loss: 0.6612 - val_accuracy: 0.6271\n",
            "Epoch 19/5000\n",
            "12438/12438 [==============================] - 43s 3ms/step - loss: 0.6453 - accuracy: 0.6256 - val_loss: 0.6739 - val_accuracy: 0.6170\n",
            "Epoch 20/5000\n",
            "12438/12438 [==============================] - 40s 3ms/step - loss: 0.6453 - accuracy: 0.6255 - val_loss: 0.6627 - val_accuracy: 0.6034\n",
            "Epoch 21/5000\n",
            "12438/12438 [==============================] - 41s 3ms/step - loss: 0.6453 - accuracy: 0.6246 - val_loss: 0.6618 - val_accuracy: 0.6219\n",
            "Epoch 22/5000\n",
            "12438/12438 [==============================] - 42s 3ms/step - loss: 0.6453 - accuracy: 0.6258 - val_loss: 0.6669 - val_accuracy: 0.6220\n",
            "Epoch 23/5000\n",
            "12438/12438 [==============================] - 42s 3ms/step - loss: 0.6452 - accuracy: 0.6251 - val_loss: 0.6624 - val_accuracy: 0.6177\n",
            "Epoch 24/5000\n",
            "12438/12438 [==============================] - 39s 3ms/step - loss: 0.6453 - accuracy: 0.6248 - val_loss: 0.6621 - val_accuracy: 0.6164\n",
            "Epoch 25/5000\n",
            "12438/12438 [==============================] - 42s 3ms/step - loss: 0.6452 - accuracy: 0.6250 - val_loss: 0.6661 - val_accuracy: 0.6074\n",
            "Epoch 26/5000\n",
            "12438/12438 [==============================] - 40s 3ms/step - loss: 0.6452 - accuracy: 0.6253 - val_loss: 0.6601 - val_accuracy: 0.6136\n",
            "Epoch 27/5000\n",
            "12438/12438 [==============================] - 40s 3ms/step - loss: 0.6452 - accuracy: 0.6247 - val_loss: 0.6656 - val_accuracy: 0.6212\n",
            "Epoch 28/5000\n",
            "12438/12438 [==============================] - 39s 3ms/step - loss: 0.6452 - accuracy: 0.6253 - val_loss: 0.6622 - val_accuracy: 0.6213\n",
            "Epoch 29/5000\n",
            "12438/12438 [==============================] - 64s 5ms/step - loss: 0.6452 - accuracy: 0.6245 - val_loss: 0.6660 - val_accuracy: 0.6048\n",
            "Epoch 30/5000\n",
            "12438/12438 [==============================] - 42s 3ms/step - loss: 0.6452 - accuracy: 0.6245 - val_loss: 0.6641 - val_accuracy: 0.6185\n",
            "Epoch 30: early stopping\n"
          ]
        }
      ],
      "source": [
        "#train the model,fit() inbuilt method of Sequential class\n",
        "#trained_model=model.fit(X1_train,Y1_train,epochs=5000)#epochs means iteration\n",
        "trained_model=model.fit(X_train1,Y_train1,\n",
        "                        epochs=5000,callbacks=cb,validation_data=(X_test1,Y_test1))\n",
        "#trained_model user defined object which hold value of loss for each epoch(itreation)"
      ]
    },
    {
      "cell_type": "code",
      "execution_count": null,
      "metadata": {
        "colab": {
          "base_uri": "https://localhost:8080/"
        },
        "id": "UpVXyV7t33oq",
        "outputId": "e1e0c01a-980f-4bd2-de22-1cf21ebff593"
      },
      "outputs": [
        {
          "output_type": "stream",
          "name": "stdout",
          "text": [
            "3242/6231 [==============>...............] - ETA: 6s - loss: 0.6299 - accuracy: 0.6837"
          ]
        }
      ],
      "source": [
        "#Model evaluation\n",
        "print(\"Training loss and Training Accuracy:\",model.evaluate(X_train,Y_train))\n",
        "print(\"Testing loss and Testing Accuracy:\",model.evaluate(X_test,Y_test))"
      ]
    },
    {
      "cell_type": "code",
      "execution_count": null,
      "metadata": {
        "id": "LvYZQWrC7-M_"
      },
      "outputs": [],
      "source": [
        "#visualisation for testing and training loss \n",
        "plt.plot(trained_model.history['loss'],label=\"Training loss\",color='red')   #history inbuilt method\n",
        "plt.plot(trained_model.history['val_loss'],label='Testing loss',color='green')\n",
        "plt.xlabel=(\"No. of Epochs\")\n",
        "plt.ylabel(\"binary cross entropy Loss\")\n",
        "plt.legend()\n",
        "plt.show()"
      ]
    },
    {
      "cell_type": "code",
      "execution_count": null,
      "metadata": {
        "id": "jqOMGOi08JNO"
      },
      "outputs": [],
      "source": [
        "#visualisation for testing and training loss \n",
        "plt.plot(trained_model.history['accuracy'],label=\"Training_Accuracy\",color='red')   #history inbuilt method\n",
        "plt.plot(trained_model.history['val_accuracy'],label='Testing_Accuracy',color='green')\n",
        "plt.xlabel=(\"No. of Epochs\")\n",
        "plt.ylabel(\"Accuracy of model\")\n",
        "plt.legend()\n",
        "plt.show()"
      ]
    },
    {
      "cell_type": "code",
      "execution_count": null,
      "metadata": {
        "id": "-xIjDf1b8JgU"
      },
      "outputs": [],
      "source": [
        "#to show weight and bias on each layers\n",
        "model.get_weights()"
      ]
    },
    {
      "cell_type": "code",
      "execution_count": null,
      "metadata": {
        "id": "QRX7m7MX8JkC"
      },
      "outputs": [],
      "source": [
        "#test the model with 30% data\n",
        "Y_pred=model.predict(X_test).round(2)\n",
        "#formula of pridiction y_pred=1/(1+np.exp(-x_test)):return the value of probability (0-1)"
      ]
    },
    {
      "cell_type": "code",
      "execution_count": null,
      "metadata": {
        "id": "H_q1YNa-8efz"
      },
      "outputs": [],
      "source": [
        "Y_pred=np.where(Y_pred>=0.5,1,0)\n",
        "print(Y_pred)"
      ]
    },
    {
      "cell_type": "code",
      "execution_count": null,
      "metadata": {
        "id": "M7Lx4lDH8kKs"
      },
      "outputs": [],
      "source": [
        "#Generate Classification Report and confusion matrix \n",
        "from sklearn.metrics import classification_report,confusion_matrix\n",
        "print(classification_report(Y_test,Y_pred))\n",
        "print(confusion_matrix(Y_test,Y_pred))"
      ]
    },
    {
      "cell_type": "code",
      "source": [
        "#the acuracy of model is good but not best so to increase the accuracy we will add more hidden layers in neural network."
      ],
      "metadata": {
        "id": "-p4MLmmQOeZy"
      },
      "execution_count": null,
      "outputs": []
    },
    {
      "cell_type": "code",
      "source": [
        "#create a neural netowrk(Artifical neural network bcz the data is in structured format and we will use tensor flow for that)\n",
        "#using inbuilt class\n",
        "#create a objetc of sequnetial class \n",
        "model2=tf.keras.Sequential([\n",
        "    #first hidden layer\n",
        "    tf.keras.layers.Dense(units=1024,activation='relu',input_shape=(X.shape[1],)),\n",
        "    #if we want to increase128\n",
        "    tf.keras.layers.Dense(units=512,activation='relu'),\n",
        "    tf.keras.layers.Dense(units=256,activation='relu'),\n",
        "    tf.keras.layers.Dense(units=128,activation='relu'),\n",
        "    tf.keras.layers.Dense(units=64,activation='relu'),\n",
        "    tf.keras.layers.Dense(units=32,activation='relu'),\n",
        "    #output layer\n",
        "    tf.keras.layers.Dense(units=16,activation='relu'),\n",
        "    tf.keras.layers.Dense(units=1,activation='sigmoid')#and by default the activation is linear if not mentioned\n",
        "])"
      ],
      "metadata": {
        "id": "MsWff0R_OelC"
      },
      "execution_count": null,
      "outputs": []
    },
    {
      "cell_type": "code",
      "source": [
        "#complie the mdoel\n",
        "model2.compile(optimizer='adam',loss='binary_crossentropy',metrics=['accuracy'])"
      ],
      "metadata": {
        "id": "Qft4X09YOene"
      },
      "execution_count": null,
      "outputs": []
    },
    {
      "cell_type": "code",
      "source": [
        "#create a procedure for each epoch\n",
        "from tensorflow.keras.callbacks import EarlyStopping\n",
        "#create the object of early stopping class\n",
        "cb=EarlyStopping(\n",
        "    monitor='val_loss',#means validation loss means testing error(to monitor testing loss)\n",
        "    min_delta=0.00001,#LEARNING RATE\n",
        "    patience=20,#till how many step  we have to see more\n",
        "    verbose=1,#how many iteration is required to train the model by a msg\n",
        "    mode='auto',#val loss ki minimum error pe rukhna hai or val score hota toh maximum pe rukhna hai\n",
        "    baseline=None,#by default the weight and bias is assigned by the neural network \n",
        "    restore_best_weights=False#Final weight and bias after global minima(wapas se new weight aur bbias na initialize kare)\n",
        "\n",
        "\n",
        ")"
      ],
      "metadata": {
        "id": "fk6sX67fOepv"
      },
      "execution_count": null,
      "outputs": []
    },
    {
      "cell_type": "code",
      "source": [
        "#now train the model with the help of fit() inbuilt method of sequential class\n",
        "trained_model2=model2.fit(X_train1,Y_train1,epochs=5000,callbacks=cb,\n",
        "                        validation_data=(X_test1,Y_test1))"
      ],
      "metadata": {
        "id": "g_KmAGi3OetK"
      },
      "execution_count": null,
      "outputs": []
    },
    {
      "cell_type": "code",
      "source": [
        "#evaluating the model\n",
        "print('Training loss and training accuracy',model2.evaluate(X_train1,Y_train1))\n",
        "print('Testing loss and testing accuracy',model2.evaluate(X_test1,Y_test1))"
      ],
      "metadata": {
        "id": "JCPRxm9fOqyQ"
      },
      "execution_count": null,
      "outputs": []
    },
    {
      "cell_type": "code",
      "source": [
        "#from above we can conclude that the accuracy increases rapidly may be because of overfitting of additional hidden layer or neural network \n",
        "#so to normalize the accuracy we have to apply regularization.\n",
        "\n"
      ],
      "metadata": {
        "id": "b7y6-p_yOq0-"
      },
      "execution_count": null,
      "outputs": []
    },
    {
      "cell_type": "code",
      "source": [
        "#create a neural netowrk(Artifical neural network bcz the data is in structured format and we will use tensor flow for that)\n",
        "#using inbuilt  and apply regularisation \n",
        "#call class regularizer\n",
        "from tensorflow.keras import regularizers\n",
        "#create a object of sequnetial class \n",
        "model=tf.keras.Sequential([\n",
        "    #first hidden layer\n",
        "    tf.keras.layers.Dense(units=256,activation='relu',\n",
        "                          kernel_regularizer=regularizers.l2(0.01),#l2 means ridge \n",
        "                          input_shape=(X.shape[1],)),\n",
        "    #second hidden alyer to increase the accuracy\n",
        "    tf.keras.layers.Dense(units=128,activation='relu',kernel_regularizer=regularizers.l2(0.01)),\n",
        "    #third layer\n",
        "    tf.keras.layers.Dense(units=64,activation='relu',kernel_regularizer=regularizers.l2(0.01)),\n",
        "    #the neuron(units=11) can be same or one less\n",
        "    #output layer\n",
        "    tf.keras.layers.Dense(units=1,activation='sigmoid',kernel_regularizer=regularizers.l2(0.01))#and by default the activation is linear if not mentioned then as per the categories of dataset\n",
        "    #here the activation function will be sigmoid\n",
        "])\n",
        "#l2 ranges from 0 to 1 first 0.01,0.02 then slowly increase if we want"
      ],
      "metadata": {
        "id": "XbMV7ZWzOq3e"
      },
      "execution_count": null,
      "outputs": []
    },
    {
      "cell_type": "code",
      "source": [
        "model.compile(optimizer='adam',loss='binary_crossentropy',metrics=['accuracy'])"
      ],
      "metadata": {
        "id": "wOe2RRXeOq6e"
      },
      "execution_count": null,
      "outputs": []
    },
    {
      "cell_type": "code",
      "source": [
        "#now train the model\n",
        "trained_model3=model.fit(X_train1,Y_train1,epochs=5000,callbacks=cb,batch_size=32,\n",
        "                        validation_data=(X_test1,Y_test1))"
      ],
      "metadata": {
        "id": "6xtgKBHzOq-B"
      },
      "execution_count": null,
      "outputs": []
    },
    {
      "cell_type": "code",
      "source": [
        "#since the accuracy is dropped after applying regularization so to resolve this issue we have to apply droput technique\n"
      ],
      "metadata": {
        "id": "nDUb2u-BPBQE"
      },
      "execution_count": null,
      "outputs": []
    },
    {
      "cell_type": "code",
      "source": [
        "from tensorflow.keras.layers import Dropout\n",
        "model4=tf.keras.Sequential([\n",
        "    #first hidden layer\n",
        "    tf.keras.layers.Dense(units=128,activation='relu',\n",
        "                          kernel_regularizer=regularizers.l2(0.01),#l2 means ridge\n",
        "                          \n",
        "                          input_shape=(X.shape[1],)),Dropout(0.50),\n",
        "    #second hidden alyer to increase the accuracy\n",
        "    tf.keras.layers.Dense(units=62,activation='relu',kernel_regularizer=regularizers.l2(0.01)),Dropout(0.50),\n",
        "    #third layer\n",
        "    tf.keras.layers.Dense(units=32,activation='relu',kernel_regularizer=regularizers.l2(0.01)),Dropout(0.50),\n",
        "    tf.keras.layers.Dense(units=16,activation='relu',kernel_regularizer=regularizers.l2(0.01)),Dropout(0.50),\n",
        "    #the neuron(units=11) can be same or one less\n",
        "    #output layer\n",
        "    tf.keras.layers.Dense(units=1,activation='sigmoid',kernel_regularizer=regularizers.l2(0.01))#and by default the activation is linear if not mentioned then as per the categories of dataset\n",
        "    #here the activation function will be sigmoid\n",
        "])"
      ],
      "metadata": {
        "id": "lcPTgv1fPBSm"
      },
      "execution_count": null,
      "outputs": []
    },
    {
      "cell_type": "code",
      "source": [
        "model4.compile(optimizer='adam',loss='binary_crossentropy',metrics=['accuracy'])"
      ],
      "metadata": {
        "id": "Rxs_QchKPBVP"
      },
      "execution_count": null,
      "outputs": []
    },
    {
      "cell_type": "code",
      "source": [
        "#now train the model\n",
        "trained_model4=model4.fit(X_train1,Y_train1,epochs=5000,callbacks=cb,batch_size=32,\n",
        "                        validation_data=(X_test1,Y_test1))"
      ],
      "metadata": {
        "id": "j6CDI9oEPBYp"
      },
      "execution_count": null,
      "outputs": []
    },
    {
      "cell_type": "code",
      "source": [
        "#evaluating the model\n",
        "print('Training loss and training accuracy',model2.evaluate(X_train1,Y_train1))\n",
        "print('Testing loss and testing accuracy',model2.evaluate(X_test1,Y_test1))"
      ],
      "metadata": {
        "id": "uhnMbM7zPLTj"
      },
      "execution_count": null,
      "outputs": []
    },
    {
      "cell_type": "code",
      "source": [
        "#visulaize training and testing loss\n",
        "plt.plot(trained_model4.history['loss'],label='Training loss')\n",
        "plt.plot(trained_model4.history['val_loss'],label='Testing loss')\n",
        "plt.xlabel('no of epochs')\n",
        "plt.ylabel('loss')\n",
        "plt.legend()\n",
        "plt.show()"
      ],
      "metadata": {
        "id": "0doUOSrwPLV3"
      },
      "execution_count": null,
      "outputs": []
    },
    {
      "cell_type": "code",
      "source": [
        "#appyling list comperhension to select those class whose got highest prob\n",
        "y_pred=[np.argmax(i) for i in y_pred]\n",
        "y_pred"
      ],
      "metadata": {
        "id": "jgUbWffxPLZa"
      },
      "execution_count": null,
      "outputs": []
    },
    {
      "cell_type": "code",
      "source": [
        "#generate the classififcationn report and confusion matrix\n",
        "from sklearn.metrics import classification_report,confusion_matrix\n",
        "print(classification_report(Y_test1,y_pred))\n",
        "print(confusion_matrix(Y_test1,y_pred))"
      ],
      "metadata": {
        "id": "CCdlwZZnPSqs"
      },
      "execution_count": null,
      "outputs": []
    }
  ],
  "metadata": {
    "colab": {
      "provenance": []
    },
    "kernelspec": {
      "display_name": "Python 3",
      "name": "python3"
    },
    "language_info": {
      "name": "python"
    }
  },
  "nbformat": 4,
  "nbformat_minor": 0
}